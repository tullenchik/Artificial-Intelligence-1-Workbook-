{
 "cells": [
  {
   "cell_type": "markdown",
   "id": "c2a8a3a3",
   "metadata": {},
   "source": [
    "Румянцева Елизавета Ивановна КВБО-01-21"
   ]
  },
  {
   "cell_type": "markdown",
   "id": "4a007a04",
   "metadata": {},
   "source": [
    "# Задание 1\n",
    "Реализовать классы нейросетей по аналогии с классом OurNeuralNetwork.\n",
    "Данные нейросети:\n",
    "− три входа (𝑥1, 𝑥2, 𝑥3);\n",
    "− три нейрона в скрытых слоях (ℎ1, ℎ2, ℎ3);\n",
    "− выход (𝑜1).\n",
    "Нейроны имеют идентичные веса и пороги:\n",
    "− 𝑤 = [0.5, 0.5, 0.5]\n",
    "− 𝑏 = 0\n",
    "Данные нейросети:\n",
    "− два входа (𝑥1, 𝑥2);\n",
    "− два нейрона в скрытых слоях (ℎ1, ℎ2);\n",
    "− два выхода (𝑜1, 𝑜2).\n",
    "Нейроны имеют идентичные веса и пороги:\n",
    "− 𝑤 = [1, 0];\n",
    "− 𝑏 = 1."
   ]
  },
  {
   "cell_type": "code",
   "execution_count": 2,
   "id": "3a4f6e70",
   "metadata": {},
   "outputs": [
    {
     "name": "stdout",
     "output_type": "stream",
     "text": [
      "0.8151036049051821\n",
      "0.8671195555587996\n"
     ]
    }
   ],
   "source": [
    "import numpy as np\n",
    "def sigmoid(x):\n",
    "    # Функция активации: f(x) = 1/(1+e^(-x))\n",
    "    return 1/(1+np.exp(-x))\n",
    "class Neuron:\n",
    "    def __init__(self, weights, bias):\n",
    "        self.weights = weights\n",
    "        self.bias = bias\n",
    "    def feedforward(self, inputs):\n",
    "        total = np.dot(self.weights, inputs) + self.bias\n",
    "        return sigmoid(total)\n",
    "class task1:\n",
    "    def __init__(self):\n",
    "        weights = np.array([0.5,0.5,0.5])\n",
    "        bias = 0\n",
    "        # класс Neuron из предыдущего раздела\n",
    "        self.h1 = Neuron(weights, bias)\n",
    "        self.h2 = Neuron(weights, bias)\n",
    "        self.h3 = Neuron(weights, bias)\n",
    "        self.o1 = Neuron(weights, bias)\n",
    "    def feedforward(self, x):\n",
    "        out_h1 = self.h1.feedforward(x)\n",
    "        out_h2 = self.h2.feedforward(x)\n",
    "        out_h3 = self.h3.feedforward(x)\n",
    "        # входы для о1 - это выходы h1 и h2 и h3\n",
    "        out_o1 = self.o1.feedforward(np.array([out_h1, out_h2, out_h3]))\n",
    "        return out_o1\n",
    "class task2:\n",
    "    def __init__(self):\n",
    "        weights = np.array([1,0])\n",
    "        bias = 1\n",
    "        # класс Neuron из предыдущего раздела\n",
    "        self.h1 = Neuron(weights, bias)\n",
    "        self.h2 = Neuron(weights, bias)\n",
    "        self.o1 = Neuron(weights, bias)\n",
    "        self.o2 = Neuron(weights, bias)\n",
    "        self.o = Neuron(weights, bias)\n",
    "    def feedforward(self, x):\n",
    "        out_h1 = self.h1.feedforward(x)\n",
    "        out_h2 = self.h2.feedforward(x)\n",
    "        # входы для о1 - это выходы h1 и h2\n",
    "        out_o1 = self.o1.feedforward(np.array([out_h1, out_h2]))\n",
    "        out_o2 = self.o2.feedforward(np.array([out_h2, out_h1]))\n",
    "        out_o = self.o.feedforward(np.array([out_o2, out_o1]))\n",
    "        return out_o\n",
    "network1 = task1()\n",
    "x = np.array([2,3,4])\n",
    "print(network1.feedforward(x))\n",
    "network2 = task2()\n",
    "x = np.array([2,3])\n",
    "print(network2.feedforward(x))"
   ]
  },
  {
   "cell_type": "markdown",
   "id": "5bff1396",
   "metadata": {},
   "source": [
    "# Задание 2\n",
    "Реализуйте классы нейронных сетей с использованием других функций активации (первую часть задания смотри задание 1)."
   ]
  },
  {
   "attachments": {
    "%D0%A1%D0%BD%D0%B8%D0%BC%D0%BE%D0%BA.PNG": {
     "image/png": "[encoded data removed]"
    }
   },
   "cell_type": "markdown",
   "id": "d7ccf188",
   "metadata": {},
   "source": [
    "![%D0%A1%D0%BD%D0%B8%D0%BC%D0%BE%D0%BA.PNG](attachment:%D0%A1%D0%BD%D0%B8%D0%BC%D0%BE%D0%BA.PNG)"
   ]
  },
  {
   "cell_type": "code",
   "execution_count": 9,
   "id": "355078e6",
   "metadata": {},
   "outputs": [
    {
     "name": "stdout",
     "output_type": "stream",
     "text": [
      "(0.21096597012287843+0j)\n"
     ]
    }
   ],
   "source": [
    "from cmath import tanh\n",
    "def tanh_derivative( x):\n",
    "    return 1 - tanh(x) * tanh(x)\n",
    "class Neuron:\n",
    "    def __init__(self, weights, bias):\n",
    "        self.weights = weights\n",
    "        self.bias = bias\n",
    "    def feedforward(self, inputs):\n",
    "        total = np.dot(self.weights, inputs) + self.bias\n",
    "        return tanh_derivative(total)\n",
    "class task2:\n",
    "    def __init__(self):\n",
    "        weights = np.array([1,0])\n",
    "        bias = 1\n",
    "        # класс Neuron из предыдущего раздела\n",
    "        self.h1 = Neuron(weights, bias)\n",
    "        self.h2 = Neuron(weights, bias)\n",
    "        self.o1 = Neuron(weights, bias)\n",
    "        self.o2 = Neuron(weights, bias)\n",
    "        self.o = Neuron(weights, bias)\n",
    "    def feedforward(self, x):\n",
    "        out_h1 = self.h1.feedforward(x)\n",
    "        out_h2 = self.h2.feedforward(x)\n",
    "        # входы для о1 - это выходы h1 и h2\n",
    "        out_o1 = self.o1.feedforward(np.array([out_h1, out_h2]))\n",
    "        out_o2 = self.o2.feedforward(np.array([out_h2, out_h1]))\n",
    "        out_o = self.o.feedforward(np.array([out_o2, out_o1]))\n",
    "        return out_o\n",
    "network2 = task2()\n",
    "x = np.array([2,3])\n",
    "print(network2.feedforward(x))"
   ]
  },
  {
   "cell_type": "code",
   "execution_count": 11,
   "id": "7a350188",
   "metadata": {},
   "outputs": [
    {
     "name": "stdout",
     "output_type": "stream",
     "text": [
      "1\n"
     ]
    }
   ],
   "source": [
    "from cmath import tanh\n",
    "def ReLU_derivative( x):\n",
    "    if x >= 0:\n",
    "        return 1\n",
    "    else:\n",
    "        return 0\n",
    "class Neuron:\n",
    "    def __init__(self, weights, bias):\n",
    "        self.weights = weights\n",
    "        self.bias = bias\n",
    "    def feedforward(self, inputs):\n",
    "        total = np.dot(self.weights, inputs) + self.bias\n",
    "        return ReLU_derivative(total)\n",
    "class task2:\n",
    "    def __init__(self):\n",
    "        weights = np.array([1,0])\n",
    "        bias = 1\n",
    "        # класс Neuron из предыдущего раздела\n",
    "        self.h1 = Neuron(weights, bias)\n",
    "        self.h2 = Neuron(weights, bias)\n",
    "        self.o1 = Neuron(weights, bias)\n",
    "        self.o2 = Neuron(weights, bias)\n",
    "        self.o = Neuron(weights, bias)\n",
    "    def feedforward(self, x):\n",
    "        out_h1 = self.h1.feedforward(x)\n",
    "        out_h2 = self.h2.feedforward(x)\n",
    "        # входы для о1 - это выходы h1 и h2\n",
    "        out_o1 = self.o1.feedforward(np.array([out_h1, out_h2]))\n",
    "        out_o2 = self.o2.feedforward(np.array([out_h2, out_h1]))\n",
    "        out_o = self.o.feedforward(np.array([out_o2, out_o1]))\n",
    "        return out_o\n",
    "network2 = task2()\n",
    "x = np.array([2,3])\n",
    "print(network2.feedforward(x))"
   ]
  },
  {
   "cell_type": "markdown",
   "id": "641eff92",
   "metadata": {},
   "source": [
    "# Задание 3\n",
    "Используйте классы MLPClassified и MLPRegressor для классификации и регрессии произвольных данных из интернета. Проведите анализ атрибуты, полученных моделей. Для классификации можете взять набор данных Ирисов: https://gist.githubusercontent.com/netj/8836201/raw/6f9306ad21398ea43cba4f7d537619d0e07d5ae3/iris.csv\n",
    "а для регрессии датасет зависимости заработной платы от опыта работы:\n",
    "https://raw.githubusercontent.com/AnnaShestova/salary-years-simple-linear-regression/master/Salary_Data.csv"
   ]
  },
  {
   "cell_type": "code",
   "execution_count": 42,
   "id": "291de88b",
   "metadata": {},
   "outputs": [
    {
     "name": "stdout",
     "output_type": "stream",
     "text": [
      "   sepal.length  sepal.width  petal.length  petal.width variety\n",
      "0           5.1          3.5           1.4          0.2  Setosa\n",
      "1           4.9          3.0           1.4          0.2  Setosa\n",
      "2           4.7          3.2           1.3          0.2  Setosa\n",
      "3           4.6          3.1           1.5          0.2  Setosa\n",
      "4           5.0          3.6           1.4          0.2  Setosa\n",
      "(120, 4) (30, 4) (120,) (30,)\n",
      "['Virginica' 'Versicolor' 'Setosa' 'Versicolor' 'Setosa' 'Virginica'\n",
      " 'Virginica' 'Virginica' 'Versicolor' 'Virginica' 'Virginica' 'Versicolor'\n",
      " 'Setosa' 'Versicolor' 'Versicolor']\n",
      "103     Virginica\n",
      "87     Versicolor\n",
      "49         Setosa\n",
      "73     Versicolor\n",
      "3          Setosa\n",
      "134     Virginica\n",
      "132     Virginica\n",
      "109     Virginica\n",
      "69     Versicolor\n",
      "122     Virginica\n",
      "120     Virginica\n",
      "85     Versicolor\n",
      "42         Setosa\n",
      "79     Versicolor\n",
      "68     Versicolor\n",
      "Name: variety, dtype: object\n",
      "Точность тестирования: 0.967\n",
      "Точность обучения: 0.975\n",
      "Потеря:  0.0781432179326271\n",
      "Количество коэффициентов:  2\n",
      "Количество перехватов:  2\n",
      "Количество иетраций, для которых выполнялась оценка:  664\n",
      "Количество функций активации выходного слоя:  softmax\n"
     ]
    }
   ],
   "source": [
    "import pandas as pd\n",
    "from sklearn.model_selection import train_test_split\n",
    "url = r'https://gist.githubusercontent.com/netj/8836201/raw/6f9306ad21398ea43cba4f7d537619d0e07d5ae3/iris.csv'\n",
    "data = pd.read_csv(url)\n",
    "print(data.head())\n",
    "X_train, X_test, y_train, y_test = train_test_split(data.iloc[:,:-1],data.iloc[:,-1],test_size = 0.20)\n",
    "print(X_train.shape, X_test.shape, y_train.shape, y_test.shape)\n",
    "from sklearn.neural_network import MLPClassifier\n",
    "mlp_classifier = MLPClassifier(random_state=123,max_iter=2000)\n",
    "mlp_classifier.fit(X_train, y_train)\n",
    "Y_preds = mlp_classifier.predict(X_test)\n",
    "print(Y_preds[:15])\n",
    "print(y_test[:15])\n",
    "print('Точность тестирования: %.3f'%mlp_classifier.score(X_test, y_test))\n",
    "print('Точность обучения: %.3f'%mlp_classifier.score(X_train, y_train))\n",
    "print(\"Потеря: \", mlp_classifier.loss_)\n",
    "print(\"Количество коэффициентов: \", len(mlp_classifier.coefs_))\n",
    "print(\"Количество перехватов: \", len(mlp_classifier.intercepts_))\n",
    "print(\"Количество иетраций, для которых выполнялась оценка: \", mlp_classifier.n_iter_)\n",
    "print(\"Количество функций активации выходного слоя: \", mlp_classifier.out_activation_)"
   ]
  },
  {
   "cell_type": "code",
   "execution_count": 50,
   "id": "95e2dd57",
   "metadata": {},
   "outputs": [
    {
     "name": "stdout",
     "output_type": "stream",
     "text": [
      "   YearsExperience   Salary\n",
      "0              1.1  39343.0\n",
      "1              1.3  46205.0\n",
      "2              1.5  37731.0\n",
      "3              2.0  43525.0\n",
      "4              2.2  39891.0\n",
      "(48, 1) (12, 1) (48,) (12,)\n",
      "[108746.25765211  61032.22414955  72483.59219017  38129.48806833\n",
      "  64849.34682976 101112.0122917   82026.39889068  62940.78548966\n",
      " 111609.09966226  64849.34682976]\n",
      "[109431.  57189.  67938.  46205.  57081. 101302.  81363.  63218. 105582.\n",
      "  57081.]\n",
      "Точность регрессии: 0.963\n",
      "Обучение регрессии: 0.955\n",
      "Потеря:  16770785.989895543\n",
      "Количество коэффициентов:  2\n",
      "Количество перехватов:  2\n",
      "Количество иетраций, для которых выполнялась оценка  30692\n",
      "Название функции активации выходного слоя  identity\n"
     ]
    }
   ],
   "source": [
    "url = r'https://raw.githubusercontent.com/AnnaShestova/salary-years-simple-linear-regression/master/Salary_Data.csv'\n",
    "\n",
    "data1 = pd.read_csv(url)\n",
    "data2=data1.head(50)\n",
    "data3=data1.tail(50)\n",
    "data=pd.concat([data3,data2])\n",
    "print(data.head())\n",
    "X_train, X_test, y_train, y_test = train_test_split(data.iloc[:,:-1].values,data.iloc[:,-1].values, test_size = 0.20,random_state=123)\n",
    "print(X_train.shape, X_test.shape, y_train.shape, y_test.shape)\n",
    "from sklearn.neural_network import MLPRegressor\n",
    "mlp_regressor = MLPRegressor(random_state=123,max_iter=3000000)\n",
    "mlp_regressor.fit(X_train, y_train)\n",
    "Y_preds = mlp_regressor.predict(X_test)\n",
    "print(Y_preds[:10])\n",
    "print(y_test[:10])\n",
    "print('Точность регрессии: %.3f'%mlp_regressor.score(X_test, y_test))\n",
    "print('Обучение регрессии: %.3f'%mlp_regressor.score(X_train, y_train))\n",
    "print(\"Потеря: \", mlp_regressor.loss_)\n",
    "print(\"Количество коэффициентов: \", len(mlp_regressor.coefs_))\n",
    "print(\"Количество перехватов: \", len(mlp_regressor.intercepts_))\n",
    "print(\"Количество иетраций, для которых выполнялась оценка \", mlp_regressor.n_iter_)\n",
    "print(\"Название функции активации выходного слоя \", mlp_regressor.out_activation_)"
   ]
  },
  {
   "cell_type": "code",
   "execution_count": null,
   "id": "d1f808c8",
   "metadata": {},
   "outputs": [],
   "source": []
  }
 ],
 "metadata": {
  "kernelspec": {
   "display_name": "Python 3 (ipykernel)",
   "language": "python",
   "name": "python3"
  },
  "language_info": {
   "codemirror_mode": {
    "name": "ipython",
    "version": 3
   },
   "file_extension": ".py",
   "mimetype": "text/x-python",
   "name": "python",
   "nbconvert_exporter": "python",
   "pygments_lexer": "ipython3",
   "version": "3.9.12"
  }
 },
 "nbformat": 4,
 "nbformat_minor": 5
}
