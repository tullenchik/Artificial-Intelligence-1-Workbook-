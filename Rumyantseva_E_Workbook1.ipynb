{
 "cells": [
  {
   "cell_type": "markdown",
   "id": "3d92a3a0",
   "metadata": {},
   "source": [
    "Румянцева Елизавета Ивановна КВБО-01-21"
   ]
  },
  {
   "cell_type": "markdown",
   "id": "7d104513",
   "metadata": {},
   "source": [
    "# 1.3 Задание\n",
    "Выведите на печать и определите тип переменной"
   ]
  },
  {
   "cell_type": "code",
   "execution_count": 1,
   "id": "1d2c038c",
   "metadata": {
    "scrolled": true
   },
   "outputs": [
    {
     "name": "stdout",
     "output_type": "stream",
     "text": [
      "True   <class 'bool'> \n",
      " {8, 1, 3, 7}   <class 'set'> \n",
      " {2, 4, 5, 'apple', 10}   <class 'set'> \n",
      " set()   <class 'set'> \n",
      " ('Антоновна Антонина', 34, 'ж')   <class 'tuple'> \n",
      " type   <class 'str'> \n",
      " [1, 'little', 2, 'content']   <class 'list'>\n"
     ]
    }
   ],
   "source": [
    "x=5>=2\n",
    "A={1,3,7,8}\n",
    "B={2,4,5,10,'apple'}\n",
    "C=A&B\n",
    "df='Антоновна Антонина',34,'ж'\n",
    "z='type'\n",
    "D=[1,'little',2,'content']\n",
    "print(x,' ',type(x),'\\n',A,' ',type(A),'\\n',B,' ',type(B),'\\n',C,' ',type(C),'\\n',df,' ',type(df),'\\n',z,' ',type(z),'\\n',D,' ',type(D))"
   ]
  },
  {
   "cell_type": "markdown",
   "id": "b1a1edc6",
   "metadata": {},
   "source": [
    "# 2.3 Задание\n",
    "Напишите код. Задается x,напечатать какому из интервалов принадлежит (-infinity,-5),[-5,5] или от (5,+infinity)"
   ]
  },
  {
   "cell_type": "code",
   "execution_count": 4,
   "id": "8d6d8cf0",
   "metadata": {},
   "outputs": [
    {
     "name": "stdout",
     "output_type": "stream",
     "text": [
      "9358\n",
      "Перемнная принадлежит к интервалу (5,+infinity)\n"
     ]
    }
   ],
   "source": [
    "x=int(input())\n",
    "if(x<-5):\n",
    "    print(\"Перемнная принадлежит к интервалу (-infinity,-5)\")\n",
    "\n",
    "elif((x>=-5)and(x<=5)):\n",
    "    print(\"Перемнная принадлежит к интервалу [-5,5]\")\n",
    "\n",
    "elif(x>5):\n",
    "    print(\"Перемнная принадлежит к интервалу (5,+infinity)\")\n"
   ]
  },
  {
   "cell_type": "markdown",
   "id": "549ed85b",
   "metadata": {},
   "source": [
    "# 3.3.1 Задание\n",
    "Выведете числа от 10 до 1 с шагом 3."
   ]
  },
  {
   "cell_type": "code",
   "execution_count": 6,
   "id": "0472133f",
   "metadata": {},
   "outputs": [
    {
     "name": "stdout",
     "output_type": "stream",
     "text": [
      "10\n",
      "7\n",
      "4\n",
      "1\n"
     ]
    }
   ],
   "source": [
    "x=10\n",
    "while x>=1:\n",
    "    print(x)\n",
    "    x=x-3"
   ]
  },
  {
   "cell_type": "markdown",
   "id": "6570c101",
   "metadata": {},
   "source": [
    "# 3.3.2 Задание\n",
    "При решении задач машинного обучения часто в качестве объектов исследования выступает человек. \n",
    "Создайте список значимых характеристик (признаков), индетифицирующих человека. Выведете список на экран. "
   ]
  },
  {
   "cell_type": "code",
   "execution_count": 8,
   "id": "fbd53725",
   "metadata": {},
   "outputs": [
    {
     "name": "stdout",
     "output_type": "stream",
     "text": [
      "2 руки\n",
      "2 ноги\n",
      "голубые глаза\n",
      "русые волосы\n"
     ]
    }
   ],
   "source": [
    "human=['2 руки','2 ноги','голубые глаза','русые волосы']\n",
    "for human in human:\n",
    "    print(human)"
   ]
  },
  {
   "cell_type": "markdown",
   "id": "02da4837",
   "metadata": {},
   "source": [
    "# 3.3.3 Задание\n",
    "Создать список чисел от 2 до 15 с шагом 1"
   ]
  },
  {
   "cell_type": "code",
   "execution_count": 10,
   "id": "94e4dc89",
   "metadata": {},
   "outputs": [
    {
     "name": "stdout",
     "output_type": "stream",
     "text": [
      "[2, 3, 4, 5, 6, 7, 8, 9, 10, 11, 12, 13, 14, 15]\n"
     ]
    }
   ],
   "source": [
    "list_int=range(2,16,1)\n",
    "print(list(list_int))"
   ]
  },
  {
   "cell_type": "markdown",
   "id": "d709079f",
   "metadata": {},
   "source": [
    "# 3.3.4 Задание\n",
    "Выведите числа из задания 3.3.3 на for с функцией range() в обратном порядке"
   ]
  },
  {
   "cell_type": "code",
   "execution_count": 13,
   "id": "1d7512c7",
   "metadata": {
    "scrolled": true
   },
   "outputs": [
    {
     "name": "stdout",
     "output_type": "stream",
     "text": [
      "[15, 14, 13, 12, 11, 10, 9, 8, 7, 6, 5, 4, 3, 2, 1]\n"
     ]
    }
   ],
   "source": [
    "list_int=range(15,0,-1)\n",
    "print(list(list_int))"
   ]
  },
  {
   "cell_type": "markdown",
   "id": "15097ffe",
   "metadata": {},
   "source": [
    "# 3.3.5 Задание\n",
    "Срез. Напишите код, который все элементы массива x с четными индексами переставит в обратном порядке.То есть если x=[0,1,2,3,4,5,6,7,8,9], то код должен сформировать [8,1,6,3,4,5,2,7,0,9]\n"
   ]
  },
  {
   "cell_type": "code",
   "execution_count": 35,
   "id": "6329816d",
   "metadata": {},
   "outputs": [
    {
     "name": "stdout",
     "output_type": "stream",
     "text": [
      "[0, 1, 2, 3, 4, 5, 6, 7, 8, 9]\n",
      "[8, 1, 6, 3, 4, 5, 2, 7, 0, 9]\n"
     ]
    }
   ],
   "source": [
    "list_int=[0,1,2,3,4,5,6,7,8,9]\n",
    "print(list(list_int))\n",
    "list_int[0::2]=reversed(list_int[0::2])\n",
    "print(list_int)"
   ]
  },
  {
   "cell_type": "markdown",
   "id": "4655dd3a",
   "metadata": {},
   "source": [
    "# 4.3.1 Задание\n",
    "Задайте массив случайных значений из интервала(0;1). Расчитайте средние и медианные значения для массива, сравните результаты, какие выводы можно сделать о значениях?\n",
    "Постройте точечную диаграмму рассения полученного ряда."
   ]
  },
  {
   "cell_type": "code",
   "execution_count": 91,
   "id": "d894d074",
   "metadata": {},
   "outputs": [
    {
     "name": "stdout",
     "output_type": "stream",
     "text": [
      "Массив: \n",
      "0.37\n",
      "0.91\n",
      "0.88\n",
      "0.15\n",
      "0.84\n",
      "0.17\n",
      "0.61\n",
      "0.39\n",
      "0.6\n",
      "0.4\n"
     ]
    },
    {
     "data": {
      "image/png": "[encoded data removed]",
      "text/plain": [
       "<Figure size 432x288 with 1 Axes>"
      ]
     },
     "metadata": {
      "needs_background": "light"
     },
     "output_type": "display_data"
    },
    {
     "name": "stdout",
     "output_type": "stream",
     "text": [
      "0.53  -среднее значение массива\n",
      "Отсортированные массив: \n",
      "0.15\n",
      "0.17\n",
      "0.37\n",
      "0.39\n",
      "0.4\n",
      "0.6\n",
      "0.61\n",
      "0.84\n",
      "0.88\n",
      "0.91\n",
      "0.5  -медианное значение массива\n",
      "\n",
      "Вывод: значение медианное и среднее арифметическое массива близкие по значению, но не обязательно равны\n"
     ]
    }
   ],
   "source": [
    "import random\n",
    "import math\n",
    "import matplotlib.pyplot as plt\n",
    "import numpy as np\n",
    "m = 10\n",
    "mass=[]\n",
    "massx=[]\n",
    "sum=0.0;\n",
    "print(\"Массив: \")\n",
    "for i in range(m):\n",
    "   mass.append(round(random.random(),2))\n",
    "   print(mass[i])\n",
    "for i in range(m):\n",
    "    massx.append(i)\n",
    "x=np.array(massx)\n",
    "y=np.array(mass)\n",
    "plt.fill_between(x, y, np.zeros_like(y), color='pink')\n",
    "plt.scatter(x,y,c='purple')\n",
    "plt.show()\n",
    "for i in range(m):\n",
    "    sum=sum+mass[i]\n",
    "srdnz=sum/len(mass)\n",
    "print(round(srdnz,2),\" -среднее значение массива\")\n",
    "mass.sort()\n",
    "print(\"Отсортированные массив: \")\n",
    "for i in range(m):\n",
    "   print(mass[i])\n",
    "if(m%2==0):\n",
    "    mediana=(mass[math.floor(m/2)]+mass[math.floor(m/2)-1])/2\n",
    "elif(m%2!=0):\n",
    "    mediana=mass[math.floor(m/2)]\n",
    "print(mediana,\" -медианное значение массива\")\n",
    "print(\"\\nВывод: значение медианное и среднее арифметическое массива близкие по значению, но не обязательно равны\")\n"
   ]
  },
  {
   "cell_type": "markdown",
   "id": "22e127c0",
   "metadata": {},
   "source": [
    "Медиана выборки числовых данных - это значение, которое находится посередине при сортировке данных. Данные могут быть отсортированы по возрастанию или убыванию, медиана остается прежней.\n",
    "\n",
    "Чтобы найти медиану, нам необходимо:\n",
    "\n",
    "1)Отсортировать образец\n",
    "2)Найдите значение в середине отсортированного образца"
   ]
  },
  {
   "cell_type": "markdown",
   "id": "32c32a8e",
   "metadata": {},
   "source": [
    "# 4.3.2 Дана функция. Моздать массив из 10 значений функции(x, например, изменяется от 1 до 10).Выделить срез первой половины массива и построить графики для основного массива-линейный и для среза-точечный"
   ]
  },
  {
   "cell_type": "code",
   "execution_count": 27,
   "id": "64f7d9d5",
   "metadata": {},
   "outputs": [
    {
     "data": {
      "image/png": "[encoded data removed]",
      "text/plain": [
       "<Figure size 432x288 with 1 Axes>"
      ]
     },
     "metadata": {
      "needs_background": "light"
     },
     "output_type": "display_data"
    }
   ],
   "source": [
    "import matplotlib.pyplot as plt\n",
    "import numpy as np\n",
    "import math\n",
    "m=10\n",
    "massx=[]\n",
    "massy=[]\n",
    "massy1=[]\n",
    "massx1=[]\n",
    "for i in range(m):\n",
    "    massx.append(i)\n",
    "x=np.array(massx)\n",
    "for i in range(m):\n",
    "    slagaemoe=math.log(math.fabs(2*(i+1)))\n",
    "    chislitel=math.sqrt(1+math.pow(math.e,math.sqrt(i+1))+math.cos((i+1)*((i+1))))\n",
    "    znamenatel=math.fabs(1-math.sin(i+1)*math.sin(i+1)*math.sin(i+1))\n",
    "    massy.append(slagaemoe+(chislitel/znamenatel))\n",
    "y=np.array(massy)\n",
    "plt.plot(x,y,c='purple')\n",
    "j=math.floor((m+1)/2)\n",
    "for i in range(j):\n",
    "    massy1.append(massy[i])\n",
    "    massx1.append(massx[i])\n",
    "x1=np.array(massx1)\n",
    "y1=np.array(massy1)\n",
    "plt.scatter(x1,y1,c='yellow')\n",
    "plt.show()"
   ]
  },
  {
   "cell_type": "markdown",
   "id": "90f07b48",
   "metadata": {},
   "source": [
    "# 4.3.3 Задание\n",
    "Дана функция. Построить график на интревале (0,10) с шагом 1 с заливкой площади и найти эту площадь под ним. Для вычисления площади воспользуйтесь функции trapz(),вычисляющей интеграл по правилу трапеции. "
   ]
  },
  {
   "cell_type": "code",
   "execution_count": 30,
   "id": "da616a13",
   "metadata": {},
   "outputs": [
    {
     "name": "stdout",
     "output_type": "stream",
     "text": [
      "4.94775375687229\n"
     ]
    },
    {
     "data": {
      "image/png": "[encoded data removed]",
      "text/plain": [
       "<Figure size 432x288 with 1 Axes>"
      ]
     },
     "metadata": {
      "needs_background": "light"
     },
     "output_type": "display_data"
    }
   ],
   "source": [
    "from scipy.integrate import simps\n",
    "from numpy import trapz\n",
    "import matplotlib.pyplot as plt\n",
    "import numpy as np\n",
    "import math\n",
    "m=10\n",
    "massx=[]\n",
    "massy=[]\n",
    "for i in range(1,m):\n",
    "    massx.append(i)\n",
    "x=np.array(massx)\n",
    "for i in range(1,m):\n",
    "    massy.append(math.fabs(math.cos((i+1)*pow(math.e,(math.cos((i+1))+math.log((i+1)+1))))))\n",
    "y=np.array(massy)\n",
    "plt.plot(x,y,c='deepskyblue')\n",
    "plt.fill_between(x, y, np.zeros_like(y), color='indigo')\n",
    "print(np.trapz(massy))"
   ]
  },
  {
   "cell_type": "code",
   "execution_count": 38,
   "id": "a47040fe",
   "metadata": {},
   "outputs": [
    {
     "data": {
      "image/png": "[encoded data removed]",
      "text/plain": [
       "<Figure size 432x288 with 1 Axes>"
      ]
     },
     "metadata": {
      "needs_background": "light"
     },
     "output_type": "display_data"
    }
   ],
   "source": [
    "import matplotlib.pyplot as plt\n",
    "import numpy as np\n",
    "import math\n",
    "m=12\n",
    "massx=[\"Январь\",\"Февраль\",\"Март\",\"Апрель\",\"Май\",\"Июнь\",\"Июль\",\"Август\",\"Сентябрь\",\"Октябрь\",\"Ноябрь\",\"Декабрь\"]\n",
    "massyApple=[131.96,121.26,122.15,131.46,124.61,136.96,145.86,151.83,141.5,149.8,165.3,177.57]\n",
    "massyGoogle=[91.79,101.84,103.43,120.51,120.58,125.32,135.22,145.46,133.27,148.27,142.45,144.68]\n",
    "massyMicrosoft=[231.96,232.38,235.77,252.18,249.68,270.9,284.91,301.88,281.92,331.62,330.59,336.32]\n",
    "x=np.array(massx)\n",
    "yA=np.array(massyApple)\n",
    "yG=np.array(massyGoogle)\n",
    "yM=np.array(massyMicrosoft)\n",
    "plt.title('Статические данные по стоимость акций Аpple,Microsoft и Google', fontsize=11)\n",
    "plt.plot(x, yA, color='navy', alpha=0.3,label='Apple')\n",
    "plt.fill_between(x, yA, color='navy', alpha=0.3)\n",
    "plt.plot(x, yG, color='darkred', alpha=0.3,label='Google')\n",
    "plt.fill_between(x, yG, color='darkred', alpha=0.3)\n",
    "plt.plot(x, yM, color='forestgreen', alpha=0.3,label='Microsoft')\n",
    "plt.fill_between(x, yM, color='forestgreen', alpha=0.3)\n",
    "plt.legend()\n",
    "plt.xticks(rotation=60)\n",
    "plt.show()"
   ]
  },
  {
   "cell_type": "markdown",
   "id": "6a561ad5",
   "metadata": {},
   "source": [
    "# 4.3.5 Задание\n",
    "Создайте простейший калькулятор, включающий в основыне действия для двух переменных '+','-','*','/',а также вычисление следюущих функций: e^(x+y), sin(x+y), cos(x+y), x^y"
   ]
  },
  {
   "cell_type": "code",
   "execution_count": 40,
   "id": "df8c904e",
   "metadata": {},
   "outputs": [
    {
     "name": "stdout",
     "output_type": "stream",
     "text": [
      "Введите первое число:  4\n",
      "Введите операцию (+,-, /, *):  /\n",
      "Введите второе число:  5\n",
      "Результат:  0.8\n",
      "Введите \"yes\", чтобы продолжить, и любую клавишу, чтобы закончить:  yes\n",
      "Введите первое число:  1947\n",
      "Введите операцию (+,-, /, *):  *\n",
      "Введите второе число:  6\n",
      "Результат:  11682.0\n",
      "Введите \"yes\", чтобы продолжить, и любую клавишу, чтобы закончить:  \n"
     ]
    }
   ],
   "source": [
    "f = 'Введите первое число:  '\n",
    "o = 'Введите операцию (+,-, /, *):  '\n",
    "s = 'Введите второе число:  '\n",
    "r = 'Результат: '\n",
    "e = 'Ошибка'\n",
    "v = 'Введите \"yes\", чтобы продолжить, и любую клавишу, чтобы закончить:  '\n",
    "prodolzhit = 'yes'\n",
    "while prodolzhit == 'yes':\n",
    "    f_num = float(input(f))\n",
    "    oper = input(o)\n",
    "    sec_num = float(input(s))\n",
    "    if oper == '+':\n",
    "        print(r, f_num + sec_num)\n",
    "    elif oper == '-':\n",
    "        print(r, f_num - sec_num)\n",
    "    elif oper == '/':\n",
    "        print(r, f_num / sec_num)\n",
    "    elif oper == '*':\n",
    "        print(r, f_num * sec_num)\n",
    "    else:\n",
    "        print(e)\n",
    "    prodolzhit = input(v)"
   ]
  },
  {
   "cell_type": "code",
   "execution_count": null,
   "id": "658cdc85",
   "metadata": {},
   "outputs": [],
   "source": []
  }
 ],
 "metadata": {
  "kernelspec": {
   "display_name": "Python 3 (ipykernel)",
   "language": "python",
   "name": "python3"
  },
  "language_info": {
   "codemirror_mode": {
    "name": "ipython",
    "version": 3
   },
   "file_extension": ".py",
   "mimetype": "text/x-python",
   "name": "python",
   "nbconvert_exporter": "python",
   "pygments_lexer": "ipython3",
   "version": "3.9.12"
  }
 },
 "nbformat": 4,
 "nbformat_minor": 5
}
